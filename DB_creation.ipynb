{
 "cells": [
  {
   "cell_type": "markdown",
   "metadata": {},
   "source": [
    "# My DataBase of Favourite Movies\n",
    "Here is how to create a database including DB design and a simple python implementation. We will use SQLite3 that comes with Python and while being limited for small DB projects, it's an immediate way to get familiar with the SQL language common to all relational DB management softwares. \n",
    "\n",
    "As an example here, we will create a database to manage the metadata of my favourite movies, including entities such as actors, directors and awards. The goal is to store all this information and be able to ask questions like: which of my favourite movies are by Quentin Tarantino? or which are the best rated movies with Geoffrey Rush I ever watched? "
   ]
  },
  {
   "cell_type": "markdown",
   "metadata": {},
   "source": [
    "## 1. Entity Relational Diagram (ERD) design\n",
    "First of all we need to design the architecture of our DB. The easiest way is to design the Entity Relation Diagram (ERD). This can be done online using ERDplus.com. \n",
    "\n",
    "*(Although learning to design a ERD might seem cumbersome and unnecessary at the beginning, it become more and more necessary as the DB becomes more complex, and it will actually speed up the SQL coding as we will see in section 3).*"
   ]
  },
  {
   "cell_type": "markdown",
   "metadata": {},
   "source": [
    "<img src=\"erd_cinema.png\" >"
   ]
  },
  {
   "cell_type": "markdown",
   "metadata": {
    "collapsed": true
   },
   "source": [
    "The ERD diagram represents the logical structure of the information to be stored. Although it looks jumbly at first, it's logic can be easily grasped, for example the \"Actors\" are connected to \"Movies\" because they \"starred in\" them, while they have no direct connection to \"Directors\" uless through the \"Movies\" that where \"Directed by\" them. \n",
    "\n",
    "The basic idea of a ERD is to break down the project into:\n",
    "1. **Entities** (in box e.g. movies, actors) which are self-contained logical entities\n",
    "2. **Relationships** (in diamonds e.g. directed by, movie award) \n",
    "3. **Attributes** are attached to entities or relationships (in oval e.g. the title, year, actor's name)\n",
    "  * **Primary keys** (bold underlined e.g. actor_ID) are the most common example of *unique identifier* and are necessary elements of a relational DB. They allow to ensure data-integrity and to eventually create the relashioships between different entities in the DB\n",
    "  * **Multivalue** attributes (in double oval e.g. a movie can have multiple producers, or rated by different institutions)\n",
    "\n",
    "The connecting lines between entities are part of the relationship and the symbols on either ends is called **cardinality** and depicts for example a one-to-one, one-to-many or many-to-many relationship. More details about the ERD notation can be found for example here https://www.lucidchart.com/pages/ER-diagram-symbols-and-meaning."
   ]
  },
  {
   "cell_type": "markdown",
   "metadata": {
    "collapsed": true
   },
   "source": [
    "## 2. Relational Schema\n",
    "While the ERD is a logical representation of the project, a more direct way to represent how the DB should be implemented is the Relational Schema. In the schema, the \"actual\" tables are depicted, including those for both Entities and Relationships, with more information about how to connect the entities using Keys.\n",
    "\n",
    "Usually the step from ERD to the Schema is mecchanical and ERDPlus.com offers a tool to convert the ERD to a Schema. And here is what we obtain:\n",
    "\n",
    "<img src=\"schema_cinema.png\">"
   ]
  },
  {
   "cell_type": "markdown",
   "metadata": {},
   "source": [
    "Here the same structure as the ERD can be recognized with some differences:\n",
    "1. Relashioships become a table with two **Foreign Keys (FK)** unless they are optional relationships (e.g. not every actor or movie has an Award)\n",
    "2. Multivalued attributes become their own tables to respect the principle of Atomicity of the DB (for more info on DB design principles look up the three Normalization Rules)\n",
    "\n",
    "Now we are ready to implement our design into an actual DB using SQLite3."
   ]
  },
  {
   "cell_type": "markdown",
   "metadata": {},
   "source": [
    "## 3. Create the SQLite3 Database\n",
    "Now we can use sqlite3 to create the db file and open the connection:"
   ]
  },
  {
   "cell_type": "code",
   "execution_count": 20,
   "metadata": {
    "collapsed": true
   },
   "outputs": [],
   "source": [
    "import sqlite3\n",
    "\n",
    "# this will create the .db file if it doesn't exist, and connect to it\n",
    "conn = sqlite3.connect('cinema.db', timeout = 10) \n",
    "# we define our cursor\n",
    "c = conn.cursor()"
   ]
  },
  {
   "cell_type": "markdown",
   "metadata": {},
   "source": [
    "A file called cinema.db should have appeared in your working directory. This file will contain the whole database in binary format. To opened and explored the .db file, download the \"DB Browser for SQLite\", that can be found at: https://github.com/sqlitebrowser/sqlitebrowser/releases"
   ]
  },
  {
   "cell_type": "code",
   "execution_count": 19,
   "metadata": {
    "collapsed": true
   },
   "outputs": [],
   "source": [
    "# Remember to close the cursor and connection when you are done with:\n",
    "c.close()\n",
    "conn.close()"
   ]
  },
  {
   "cell_type": "markdown",
   "metadata": {
    "collapsed": true
   },
   "source": [
    "Now its time to populate the DB with tables and columns. This requires knowledge of SQL language and will be explained as we go.\n",
    "\n",
    "Here is how we create the first table, syntax words are in CAPS which definitions of tables and columns is in lower-case:"
   ]
  },
  {
   "cell_type": "code",
   "execution_count": 21,
   "metadata": {
    "collapsed": false
   },
   "outputs": [
    {
     "data": {
      "text/plain": [
       "<sqlite3.Cursor at 0x51655e0>"
      ]
     },
     "execution_count": 21,
     "metadata": {},
     "output_type": "execute_result"
    }
   ],
   "source": [
    "c.execute('CREATE TABLE IF NOT EXISTS Movies     \\\n",
    "            (movie_ID INTEGER PRIMARY KEY,       \\\n",
    "            title_en VARCHAR,                    \\\n",
    "            title_IT VARCHAR,                    \\\n",
    "            movie_year INT,                      \\\n",
    "            watched INT                          \\\n",
    "            );')"
   ]
  },
  {
   "cell_type": "markdown",
   "metadata": {
    "collapsed": true
   },
   "source": [
    "The basic syntax to create tables is:\n",
    "\n",
    "**CREATE TABLE table_name (attribute1, attribute2,...)**\n",
    "\n",
    "Notice that every attribute is followed by the DataType (e.g. INT, VARCHAR) and at the end the PRIMARY KEY is also identified. Similarly we can create the other main tables:"
   ]
  },
  {
   "cell_type": "code",
   "execution_count": 22,
   "metadata": {
    "collapsed": false
   },
   "outputs": [
    {
     "data": {
      "text/plain": [
       "<sqlite3.Cursor at 0x51655e0>"
      ]
     },
     "execution_count": 22,
     "metadata": {},
     "output_type": "execute_result"
    }
   ],
   "source": [
    "c.execute('\\\n",
    "    CREATE TABLE Directors            \\\n",
    "    (director_ID INTEGER PRIMARY KEY, \\\n",
    "    director_Fname VARCHAR NOT NULL,  \\\n",
    "    director_Lname VARCHAR NOT NULL,  \\\n",
    "    direc_birthYear INT               \\\n",
    "    );')\n",
    "c.execute('\\\n",
    "    CREATE TABLE Actors               \\\n",
    "    (actor_ID INTEGER PRIMARY KEY,    \\\n",
    "    actor_Fname VARCHAR NOT NULL,     \\\n",
    "    actor_Lname VARCHAR NOT NULL,     \\\n",
    "    actor_birthYear INT               \\\n",
    "    );')"
   ]
  },
  {
   "cell_type": "markdown",
   "metadata": {},
   "source": [
    "The rest of the tables, those referrring to entity-relationships and the table Awards are implemented with the only difference that they include *Foreign Keys* which are defined with an intuitive command syntax (see commands below)."
   ]
  },
  {
   "cell_type": "code",
   "execution_count": 23,
   "metadata": {
    "collapsed": false
   },
   "outputs": [
    {
     "data": {
      "text/plain": [
       "<sqlite3.Cursor at 0x51655e0>"
      ]
     },
     "execution_count": 23,
     "metadata": {},
     "output_type": "execute_result"
    }
   ],
   "source": [
    "c.execute(\"                                               \\\n",
    "    CREATE TABLE Awards                                   \\\n",
    "    (award_ID INTEGER PRIMARY KEY,                        \\\n",
    "    Oscar_year INT,                                       \\\n",
    "    Oscar_category VARCHAR,                               \\\n",
    "    OtherAward1_year INT,                                 \\\n",
    "    Highlight VARCHAR,                                    \\\n",
    "    actor_ID INT,                                         \\\n",
    "    movie_ID INT,                                         \\\n",
    "    FOREIGN KEY (actor_ID) REFERENCES Actors(actor_ID),   \\\n",
    "    FOREIGN KEY (movie_ID) REFERENCES Movies(movie_ID)    \\\n",
    "    );\")\n",
    "\n",
    "c.execute(\"                                                       \\\n",
    "    CREATE TABLE directed_by                                      \\\n",
    "    (director_ID INT NOT NULL,                                    \\\n",
    "    movie_ID INT NOT NULL,                                        \\\n",
    "    PRIMARY KEY (director_ID, movie_ID),                          \\\n",
    "    FOREIGN KEY (director_ID) REFERENCES Directors(director_ID),  \\\n",
    "    FOREIGN KEY (movie_ID) REFERENCES Movies(movie_ID)            \\\n",
    "    );\")\n",
    "\n",
    "c.execute(\"                                               \\\n",
    "    CREATE TABLE starred_in                               \\\n",
    "    (actor_ID INT NOT NULL,                               \\\n",
    "    movie_ID INT NOT NULL,                                \\\n",
    "    PRIMARY KEY (actor_ID, movie_ID),                     \\\n",
    "    FOREIGN KEY (actor_ID) REFERENCES Actors(actor_ID),   \\\n",
    "    FOREIGN KEY (movie_ID) REFERENCES Movies(movie_ID)    \\\n",
    "    );\")                                                        #   \n",
    "\n",
    "c.execute(\"                                               \\\n",
    "    CREATE TABLE Movies_producers                         \\\n",
    "    (producer_name VARCHAR NOT NULL,                      \\\n",
    "    movie_ID INT NOT NULL,                                \\\n",
    "    PRIMARY KEY (producer_name, movie_ID),                \\\n",
    "    FOREIGN KEY (movie_ID) REFERENCES Movies(movie_ID)    \\\n",
    "    );\")\n",
    "\n",
    "c.execute('                                               \\\n",
    "    CREATE TABLE Movies_ratings                           \\\n",
    "    (ratings_ID INT NOT NULL,                             \\\n",
    "    Rotten_Tomatoes INT NOT NULL,                         \\\n",
    "    movie_ID INT NOT NULL,                                \\\n",
    "    PRIMARY KEY (ratings_ID, movie_ID),                   \\\n",
    "    FOREIGN KEY (movie_ID) REFERENCES Movies(movie_ID)    \\\n",
    "    );')"
   ]
  },
  {
   "cell_type": "markdown",
   "metadata": {},
   "source": [
    "### ...IMPORTANT HINT:\n",
    "An easy way to write all this SQL code, which can be borign to do manually, is to Export the SQL code from ERDPlus.com once the Relational Schema is designed. This is a very useful free tool that save a lot of time and tedious, carefull coding, and it's a strong argument for designing the ERD with a suitable software in the first place."
   ]
  },
  {
   "cell_type": "markdown",
   "metadata": {},
   "source": [
    "## 4. Data population"
   ]
  },
  {
   "cell_type": "markdown",
   "metadata": {},
   "source": [
    "Before you populate the database make sure you are still connected to the database, to reconnect you can use the following commands:"
   ]
  },
  {
   "cell_type": "code",
   "execution_count": 60,
   "metadata": {
    "collapsed": true
   },
   "outputs": [],
   "source": [
    "conn = sqlite3.connect('cinema.db', timeout = 10) \n",
    "c = conn.cursor()"
   ]
  },
  {
   "cell_type": "markdown",
   "metadata": {},
   "source": [
    "Before you insert data in a table, you might want to check what are the available columns and their names. You can explore the information of a table (e.g. \"Movies\") with the following commands. Note that every time you try and get data from the DB, you need to send the query and then fetchall() selected data."
   ]
  },
  {
   "cell_type": "code",
   "execution_count": 24,
   "metadata": {
    "collapsed": false
   },
   "outputs": [
    {
     "name": "stdout",
     "output_type": "stream",
     "text": [
      "(0, 'movie_ID', 'INTEGER', 0, None, 1)\n",
      "(1, 'title_en', 'VARCHAR', 0, None, 0)\n",
      "(2, 'title_IT', 'VARCHAR', 0, None, 0)\n",
      "(3, 'movie_year', 'INT', 0, None, 0)\n",
      "(4, 'watched', 'INT', 0, None, 0)\n"
     ]
    }
   ],
   "source": [
    "c.execute('PRAGMA table_info(Movies);') #\n",
    "data = c.fetchall()\n",
    "for row in data:\n",
    "    print(row)"
   ]
  },
  {
   "cell_type": "markdown",
   "metadata": {},
   "source": [
    "Now you can insert your first \"row\" into one of the tables with the following command:\n",
    "\n",
    "**INSERT INTO table_name (column1, column2,...)  \n",
    "VALUES (value1, value2, ...)**"
   ]
  },
  {
   "cell_type": "code",
   "execution_count": 81,
   "metadata": {
    "collapsed": false
   },
   "outputs": [],
   "source": [
    "c.execute(\"INSERT INTO Movies (title_en, movie_year) VALUES ('the daughter', 2015);\")\n",
    "conn.commit()"
   ]
  },
  {
   "cell_type": "markdown",
   "metadata": {},
   "source": [
    "Notice that after every INSERT, data have to be committed for the insertion to take effect. Also notice that if the primary key is defined as an INTEGER, then it can be omitted in the INSERT query and an automatic incremental value will be assigned."
   ]
  },
  {
   "cell_type": "code",
   "execution_count": 49,
   "metadata": {
    "collapsed": true
   },
   "outputs": [],
   "source": [
    "c.execute(\"INSERT INTO Movies (title_en, movie_year, watched, genre) \\\n",
    "          VALUES ('the circle', 2017, 1, 'sci-fi'),                  \\\n",
    "                 ('the beauty and the beast', 2017, 1, 'fantasy'),   \\\n",
    "                 ('interstellar', 2014, 1, 'sci-fi'),                \\\n",
    "                 ('the martian', 2015, 1, 'sci-fi')                  \\\n",
    "          ;\")\n",
    "conn.commit()   # insert multiple movies with a single query"
   ]
  },
  {
   "cell_type": "markdown",
   "metadata": {},
   "source": [
    "Let's insert some actors as well and then see how we can link tables with Foreign Keys:"
   ]
  },
  {
   "cell_type": "code",
   "execution_count": 51,
   "metadata": {
    "collapsed": false
   },
   "outputs": [],
   "source": [
    "c.execute(\"INSERT INTO Actors (actor_Fname, actor_Lname, actor_birthYear)  \\\n",
    "          VALUES ('Emma', 'Watson', 1990),                                 \\\n",
    "                 ('Matt', 'Damon', 1970)                                   \\\n",
    "          ;\")\n",
    "conn.commit()"
   ]
  },
  {
   "cell_type": "markdown",
   "metadata": {},
   "source": [
    "Now we are ready to insert data into the relationship tables, and since this tables contain foreign keys we need to make sure we retrieve them correctly by SELECTing those keys from their respective tables. In this case we will use the WHERE condition to identify them. "
   ]
  },
  {
   "cell_type": "code",
   "execution_count": 54,
   "metadata": {
    "collapsed": false
   },
   "outputs": [],
   "source": [
    "c.execute(\"INSERT INTO starred_in (actor_ID, movie_ID)   \\\n",
    "          SELECT actor_ID, movie_ID                      \\\n",
    "          FROM Actors, Movies                            \\\n",
    "          WHERE actor_Fname = 'Matt'                     \\\n",
    "          AND title_en = 'the martian';     \\\n",
    "          \")\n",
    "conn.commit()"
   ]
  },
  {
   "cell_type": "markdown",
   "metadata": {},
   "source": [
    "Note that it would have been much easier to insert in this table (and all reletionship tables) if the PRIMARY KEY were a value we know, like the actor name or the movie title. Nevertheless, we would have to know it correctly and make sure that a movie title is never ambiguous (otherwise cannot work as PK, because it is not a unique identifier). In this situation is often wiser to use **SURROGATE KEYS** i.e. incremental integers that act as KEY, although making the queries more nested to write."
   ]
  },
  {
   "cell_type": "markdown",
   "metadata": {},
   "source": [
    "## 5. Querying data"
   ]
  },
  {
   "cell_type": "markdown",
   "metadata": {},
   "source": [
    "Now we are ready to start querying data and reap the results of our work. Even if the DB only contains few entries, it is easy to imagine the power of this approach when its size is scaled up by many order of magnitude.\n",
    "\n",
    "The main command to learn to retrieve data is:\n",
    "\n",
    "** SELECT column1, column2, ... FROM table_name**"
   ]
  },
  {
   "cell_type": "code",
   "execution_count": 55,
   "metadata": {
    "collapsed": false
   },
   "outputs": [
    {
     "name": "stdout",
     "output_type": "stream",
     "text": [
      "('Emma', 'Watson')\n",
      "('Matt', 'Damon')\n"
     ]
    }
   ],
   "source": [
    "c.execute(\"SELECT actor_Fname, actor_Lname FROM Actors;\")\n",
    "data = c.fetchall()\n",
    "for row in data: print(row)"
   ]
  },
  {
   "cell_type": "markdown",
   "metadata": {},
   "source": [
    "Notice that again data have to fetched to be printed. \n",
    "\n",
    "The syntax of the SELECT command is very rich and here is the sckeleton:\n",
    "\n",
    "**SELECT column  \n",
    "FROM table_name  \n",
    "WHERE condiiton  \n",
    "GROUP BY column  \n",
    "ORDER BY column  \n",
    "LIMIT number**\n",
    "\n",
    "Every column and table can be calles with an ALIAS (**SELECT column1 AS c1**) to lighten the query. The WHERE supports boolean logic like AND, OR, IS, IS NOT, LIKE regex..., and also GROUP BY and ORDER BY can have multiple levels, and finally LIMIT supports both an off-set and a range. \n",
    "\n",
    "So as you see the syntax is rich and allows for sofisticated analysis as other operators are introduced, such as SUM(), COUNT(), MAX(), AVERAGE(), ecc.\n",
    "\n",
    "Here is an example of more complex query where we look for actors older than me whos first name starts with the letter \"m\" (SQL is not case sensitive!!)."
   ]
  },
  {
   "cell_type": "code",
   "execution_count": 56,
   "metadata": {
    "collapsed": false
   },
   "outputs": [
    {
     "name": "stdout",
     "output_type": "stream",
     "text": [
      "(2, 'Matt', 'Damon', 1970)\n"
     ]
    }
   ],
   "source": [
    "c.execute(\"SELECT *                      \\\n",
    "          FROM Actors                    \\\n",
    "          WHERE actor_birthYear < 1986   \\\n",
    "          AND actor_Fname LIKE 'm%';     \\\n",
    "          \" ) \n",
    "data = c.fetchall()\n",
    "for row in data: print(row)"
   ]
  },
  {
   "cell_type": "markdown",
   "metadata": {},
   "source": [
    "## 5. Querying across multiple tables with \"JOIN\"\n",
    "\n",
    "The \"JOIN\" is a very important command for more advanced querying. It allows to really exploit the potential of relational databases by looking for specific subsets of data spread across multiple tables while keeping the process computationally efficient. \n",
    "\n",
    "There are different kinds of JOIN-ing operations that correspond to different set-theory equivalents:\n",
    "\n",
    "**INNER JOIN = set intersection**  \n",
    "**OUTER JOIN = set union**  \n",
    "**RIGHT/LEFT JOIN = union with intersection**\n",
    "\n",
    "More details can be found at https://www.codeproject.com/Articles/33052/Visual-Representation-of-SQL-Joins.\n",
    "\n",
    "Here we will only demonstrate the use of INNER JOIN in two cases:"
   ]
  },
  {
   "cell_type": "code",
   "execution_count": 57,
   "metadata": {
    "collapsed": false
   },
   "outputs": [
    {
     "name": "stdout",
     "output_type": "stream",
     "text": [
      "ID, Fname, Lname, Year, s_ID, m_ID\n",
      "(1, 'Emma', 'Watson', 1990, 1, 2)\n",
      "(1, 'Emma', 'Watson', 1990, 1, 1)\n",
      "(2, 'Matt', 'Damon', 1970, 2, 4)\n"
     ]
    }
   ],
   "source": [
    "print('ID, Fname, Lname, Year, s_ID, m_ID')\n",
    "c.execute(\"SELECT *                               \\\n",
    "          FROM Actors a                           \\\n",
    "          INNER JOIN starred_in s                 \\\n",
    "          ON a.actor_ID=s.actor_ID                \\\n",
    "          ;\" ) \n",
    "data = c.fetchall()\n",
    "for row in data: print(row)"
   ]
  },
  {
   "cell_type": "markdown",
   "metadata": {},
   "source": [
    "Notice that the quary reports the first 4 columns from the Actors table, and the last 2 columns from the starred_in table. Therefore here we have joined the \"Actors\" and \"starred_in\" tables linking them with the \"ON\" statement that specifies which columns have to be compared for linking. \n",
    "\n",
    "As a result we found the intersection of the two tables, in fact, we didn't get the name of any other actor because in the current DB they are not linked to any movie."
   ]
  },
  {
   "cell_type": "markdown",
   "metadata": {},
   "source": [
    "#### Crossing several relationship levels\n",
    "\n",
    "If we want to select actors that star in a certain movie (and we don't know the movie_ID off the top of our head) we have to reach across one more level to make this connection. Please notice how Actors and Movies are not directly linked in the ERD:\n",
    "\n",
    "<img src=\"erd_cinema_highlight.png\" style=\"width: 500px;\"/>"
   ]
  },
  {
   "cell_type": "markdown",
   "metadata": {},
   "source": [
    "This operation can be done by nesting as many JOIN statements as the links that have to be crossed in the ERD. In this example we will start from the Actors and select only those that intersect with a set made of the intersection between the \"starred_in\" table and the \"Movies\" set where our condition on the title is set.  \n",
    "\n",
    "So, let's SELECT the Actors that star into the movie \"the beauty and the beast\":"
   ]
  },
  {
   "cell_type": "code",
   "execution_count": 58,
   "metadata": {
    "collapsed": false
   },
   "outputs": [
    {
     "name": "stdout",
     "output_type": "stream",
     "text": [
      "(2, 'the beauty and the beast', None, 2017, 1, 'fantasy', None, 2)\n",
      "(1, 'the circle', None, 2017, 1, 'sci-fi', None, 1)\n"
     ]
    }
   ],
   "source": [
    "c.execute(\"SELECT * FROM Movies m INNER JOIN (         \\\n",
    "          SELECT movie_ID FROM starred_in s            \\\n",
    "          INNER JOIN Actors a ON a.actor_ID=s.actor_ID \\\n",
    "          WHERE a.actor_Lname = 'Watson'\\\n",
    "          ) sm ON m.movie_ID=sm.movie_ID;\" ) \n",
    "data = c.fetchall()\n",
    "for row in data: print(row)"
   ]
  },
  {
   "cell_type": "markdown",
   "metadata": {},
   "source": [
    "It will look cryptic for the first 10 minutes, and it's OK. To help you crack it, notice how the first INNER JOIN intersects the Actors with a set created by the query itself and contained between \"()\". This intermediate set is created with another SELECT statement that contains a nested INNER JOIN between the \"starred_in\" and the \"Movies\" table."
   ]
  },
  {
   "cell_type": "markdown",
   "metadata": {},
   "source": [
    "#### How to add an extra column"
   ]
  },
  {
   "cell_type": "code",
   "execution_count": null,
   "metadata": {
    "collapsed": false
   },
   "outputs": [],
   "source": [
    "c.execute(\"ALTER TABLE Movies ADD COLUMN comment VARCHAR;\" )          \n",
    "# In theory I would use a BOOLEAN type but SQLite doesn't have it\n",
    "conn.commit()"
   ]
  },
  {
   "cell_type": "code",
   "execution_count": 3,
   "metadata": {
    "collapsed": false
   },
   "outputs": [
    {
     "data": {
      "text/plain": [
       "[(0, 'movie_ID', 'INTEGER', 0, None, 1),\n",
       " (1, 'title_en', 'VARCHAR', 0, None, 0),\n",
       " (2, 'title_IT', 'VARCHAR', 0, None, 0),\n",
       " (3, 'movie_year', 'INT', 0, None, 0),\n",
       " (4, 'watched', 'INT', 0, None, 0),\n",
       " (5, 'genre', 'VARCHAR', 0, None, 0),\n",
       " (6, 'comment', 'VARCHAR', 0, None, 0)]"
      ]
     },
     "execution_count": 3,
     "metadata": {},
     "output_type": "execute_result"
    }
   ],
   "source": [
    "c.execute('PRAGMA table_info(Movies);')\n",
    "data=c.fetchall()\n",
    "data"
   ]
  },
  {
   "cell_type": "markdown",
   "metadata": {},
   "source": [
    "**More population quaryies**"
   ]
  },
  {
   "cell_type": "code",
   "execution_count": 8,
   "metadata": {
    "collapsed": false
   },
   "outputs": [],
   "source": [
    "# Multiple MOVIES\n",
    "c.execute(\"INSERT INTO Movies (title_en, movie_year, watched, genre) \\\n",
    "          VALUES ('jurassic park',),                  \\\n",
    "                 ('bicentennial man',),   \\\n",
    "                 ('the lord of the rings',),         \\\n",
    "                 ('batman and robin', ),                  \\\n",
    "                 ('gattaca', ),                \\\n",
    "                 ('the avengers', ),                    \\\n",
    "                 ('going clear', ),        \\\n",
    "                 ('grease',),                \\\n",
    "                 ('inglorious basterds', ),     \\\n",
    "                 ('django unchained', ),    \\\n",
    "                 ('iron man', ),         \\\n",
    "                 ('armageddon',)           \\\n",
    "                 ('the sixth sense', )                        \\\n",
    "                 ('sleepy hollow', )                      \\\n",
    "                 ('batman returns',)                   \\\n",
    "                 ('titanic', )        \\\n",
    "                 ('the man in the iron mask', )      \\\n",
    "                 ('the iviator', )                 \\\n",
    "                 ('inception', )                  \\\n",
    "                 ('the revenant', )                \\\n",
    "                 ('one flew over the cuckoo's nest', )      \\\n",
    "                 ('the shining', )             \\\n",
    "                 ('the bucket list', )        \\\n",
    "                 ('the shawshank redemption', )    \\\n",
    "                 ('bruce almighty',)            \\\n",
    "                 ('batman begins', )          \\\n",
    "                 ('invictus', )            \\\n",
    "                 ('oblivion',)            \\\n",
    "                 ('midnight in paris', ),       \\\n",
    "                 ('the day after tomorrow', )   \\\n",
    "                 ('harry potter', )             \\\n",
    "                 ('schindler's list', )          \\\n",
    "                 ('independence day', )          \\\n",
    "                 ('man in black', )               \\\n",
    "                 ('I robot', )               \\\n",
    "                 ('hitch',)             \\\n",
    "                 ('the pursuit of happiness',)     \\\n",
    "                 ('seven pounds',)             \\\n",
    "                 ('sherlock holmes', )          \\\n",
    "                 ('hook', )                    \\\n",
    "                 ('hidden figures', 2016, 1, 'historic')  \\\n",
    "                 \n",
    "                 \n",
    "          ;\")\n",
    "conn.commit()   # insert multiple movies with a single query"
   ]
  },
  {
   "cell_type": "code",
   "execution_count": 9,
   "metadata": {
    "collapsed": true
   },
   "outputs": [],
   "source": [
    "# Multiple ACTORS\n",
    "c.execute(\"INSERT INTO Actors (actor_Fname, actor_Lname, actor_birthYear) \\\n",
    "          VALUES ('Geoffrey', 'Rush', 1951),                             \\\n",
    "                 ('Sam', 'Neill', 1947),                           \\\n",
    "                 ('Miranda', 'Otto', 1967),                \\\n",
    "                 ('Uma', 'Thurmann', 1970),                                \\\n",
    "                 ('John', 'Travolta', 1954),         \\\n",
    "                 ('Samuel', 'Jackson', 1948),           \\\n",
    "                 ('Christof', 'Walts', 1956),           \\\n",
    "                 ('Bruce', 'Willis', 1955),             \\\n",
    "                 ('Christopher', 'Walken', 1943),       \\\n",
    "                 ('Quentin', 'Tarantino', 1963),        \\\n",
    "                 ('Leonardo', 'Di Caprio', 1974),    \\\n",
    "                 ('Jack', 'Nicholson', 1937),         \\\n",
    "                 ('Morgan', 'Freeman', 1937),           \\\n",
    "                 ('Tom', 'Hanks', 1956),          \\\n",
    "                 ('Owen', 'Wilson', 1968),            \\\n",
    "                 ('Cameron', 'Diaz', 1972),          \\\n",
    "                 ('Jim', 'Carrey', 1962),          \\\n",
    "                 ('Jim', 'Broadbent', 1949),    \\\n",
    "                 ('Liam', 'Neeson', 1952),      \\\n",
    "                 ('Will', 'Smith', 1968),            \\\n",
    "                 ('Robert', 'Downey', 1965),          \\\n",
    "                 ('Kirsten', 'Dunst', 1982),         \\\n",
    "                 ('Chris', 'Evans', 1981),          \\\n",
    "                 ('Mark', 'Ruffalo', 1967),        \\\n",
    "                 ('Scarlett', 'Johannson', 1984),   \\\n",
    "                 ('Gwynett', 'Paltrow', 1972),     \\\n",
    "                 ('Liv', 'Tyler', 1977)        \\\n",
    "          ;\")\n",
    "conn.commit()   # insert multiple movies with a single query"
   ]
  },
  {
   "cell_type": "code",
   "execution_count": 65,
   "metadata": {
    "collapsed": true
   },
   "outputs": [],
   "source": [
    "# MOVIE ACTOR RELATIONSHIP\n",
    "c.execute(\"INSERT INTO starred_in (actor_ID, movie_ID)   \\\n",
    "          SELECT actor_ID, movie_ID                      \\\n",
    "          FROM Actors, Movies                            \\\n",
    "          WHERE actor_Lname = 'Corbett'                     \\\n",
    "          AND title_IT LIKE 'il mio grosso%';     \\\n",
    "          \")\n",
    "conn.commit()"
   ]
  },
  {
   "cell_type": "code",
   "execution_count": 2,
   "metadata": {
    "collapsed": true
   },
   "outputs": [],
   "source": [
    "c.execute(\"INSERT INTO Directors (director_Fname, director_Lname)  \\\n",
    "          VALUES ('Quentin', 'Tarantino'),                         \\\n",
    "          ('Martin', 'Scorsese'),                                  \\\n",
    "          ('Steven', 'Spielberg'),                                 \\\n",
    "          ('Christopher', 'Nolan'),                                \\\n",
    "          ('Stanley', 'Kybrick'),                                  \\\n",
    "          ('Alfred', 'Hitchcock'),                                 \\\n",
    "          ('Woody', 'Allen')                                       \\\n",
    "          \")\n",
    "conn.commit()"
   ]
  },
  {
   "cell_type": "code",
   "execution_count": 7,
   "metadata": {
    "collapsed": true
   },
   "outputs": [],
   "source": [
    "# MOVIE-director RELATIONSHIP\n",
    "c.execute(\"INSERT INTO directed_by (director_ID, movie_ID)   \\\n",
    "          SELECT director_ID, movie_ID                      \\\n",
    "          FROM Directors, Movies                            \\\n",
    "          WHERE director_Lname = 'Spielberg'                     \\\n",
    "          AND title_en LIKE 'save%';     \\\n",
    "          \")\n",
    "conn.commit()"
   ]
  },
  {
   "cell_type": "code",
   "execution_count": 31,
   "metadata": {
    "collapsed": false
   },
   "outputs": [],
   "source": [
    "c.execute(\"INSERT OR IGNORE INTO Movies (title_en, movie_year, watched, genre) \\\n",
    "          VALUES ('jurassic park', 1993, 1, 'sci-fi');\")\n",
    "conn.commit()"
   ]
  },
  {
   "cell_type": "markdown",
   "metadata": {},
   "source": [
    "Here is how to delete entries:"
   ]
  },
  {
   "cell_type": "code",
   "execution_count": 29,
   "metadata": {
    "collapsed": false
   },
   "outputs": [],
   "source": [
    "c.execute(\"DELETE FROM Movies WHERE title_en LIKE 'jurassic%';\")\n",
    "conn.commit()"
   ]
  },
  {
   "cell_type": "markdown",
   "metadata": {},
   "source": [
    "Here is how to check how many rows have been affected by the last changes, and check if an INSERT or DELECT, ecc has been successful."
   ]
  },
  {
   "cell_type": "code",
   "execution_count": 30,
   "metadata": {
    "collapsed": false
   },
   "outputs": [
    {
     "name": "stdout",
     "output_type": "stream",
     "text": [
      "[(2,)]\n"
     ]
    }
   ],
   "source": [
    "c.execute(\"SELECT changes();\")\n",
    "result = c.fetchall()\n",
    "print(result)"
   ]
  },
  {
   "cell_type": "markdown",
   "metadata": {},
   "source": [
    "## 6. Let's automate the process a bit\n",
    "\n",
    "Now this is great and fun, but every query is a lot of writing, and we might want to repeat the same or a similar quary for many different values, both in data entry and in data analysis. So what we have to do is to create customized functions that will \"edit\" the query for us. And eventually programmatically perform data entry from verious structured or unstructured lists. \n",
    "\n",
    "First of all we need to start by creating low level functions that perform basic operations, like inserting in a single value in a single table from structured variables, and from there create higher level functions that perform more flexible operations. "
   ]
  },
  {
   "cell_type": "code",
   "execution_count": 66,
   "metadata": {
    "collapsed": true
   },
   "outputs": [],
   "source": [
    "def singleTable_entry(table, column, data):\n",
    "    \"\"\"This function formats the query and commits an entry to DB\n",
    "    \n",
    "    Parameters:\n",
    "        table = 'table_name' as a string\n",
    "        column = ['colum1', 'column2',..] is a list of strings\n",
    "        data = [123, 'name', 456, ...] is a list of strings and integers\n",
    "        \n",
    "    Returns:\n",
    "        \"str\" with SQLite command to insert DATA into COLUMN\n",
    "    \"\"\"\n",
    "    \n",
    "    for i in range(len(data)):\n",
    "        \n",
    "        # check for datatype and format accordingly\n",
    "        if isinstance(data[i], str):\n",
    "            data[i] = str(\"'\" + data[i] + \"'\")\n",
    "            \n",
    "        elif isinstance(data[i], int):\n",
    "            data[i] = str(data[i])\n",
    "    \n",
    "    # join list elements into one string\n",
    "    column = ', '.join(column)\n",
    "    data = ', '.join(data)\n",
    "    \n",
    "    #create command string\n",
    "    cmd = 'INSERT INTO %s (%s) VALUES(%s);' %(table, column, data)\n",
    "    \n",
    "    return cmd"
   ]
  },
  {
   "cell_type": "markdown",
   "metadata": {},
   "source": [
    "with this function we can get the query already fromatted starting from structured data like so:"
   ]
  },
  {
   "cell_type": "code",
   "execution_count": 67,
   "metadata": {
    "collapsed": false
   },
   "outputs": [
    {
     "data": {
      "text/plain": [
       "\"INSERT INTO my_table (my_column1, my_column2, my_column3, my_column3) VALUES('bablabal', 123456, 'blabla2', 58);\""
      ]
     },
     "execution_count": 67,
     "metadata": {},
     "output_type": "execute_result"
    }
   ],
   "source": [
    "# some structured data\n",
    "table = 'my_table'\n",
    "column = ['my_column1', 'my_column2', 'my_column3', 'my_column3']\n",
    "value = ['bablabal', 123456, 'blabla2', 58]\n",
    "\n",
    "#let's use the function on this data\n",
    "singleTable_entry(table, column, value)"
   ]
  },
  {
   "cell_type": "markdown",
   "metadata": {},
   "source": [
    "Notice that the function has been written to recognize two datatypes (str, int) and to format the query to respect that."
   ]
  },
  {
   "cell_type": "code",
   "execution_count": null,
   "metadata": {
    "collapsed": true
   },
   "outputs": [],
   "source": []
  },
  {
   "cell_type": "code",
   "execution_count": null,
   "metadata": {
    "collapsed": true
   },
   "outputs": [],
   "source": []
  },
  {
   "cell_type": "code",
   "execution_count": null,
   "metadata": {
    "collapsed": true
   },
   "outputs": [],
   "source": []
  },
  {
   "cell_type": "code",
   "execution_count": 1,
   "metadata": {
    "collapsed": false
   },
   "outputs": [],
   "source": [
    "import sqlite3\n",
    "\n",
    "conn = sqlite3.connect('cinema.db', timeout = 10) \n",
    "c = conn.cursor()"
   ]
  },
  {
   "cell_type": "code",
   "execution_count": 46,
   "metadata": {
    "collapsed": true
   },
   "outputs": [],
   "source": [
    "c.close()\n",
    "conn.close()"
   ]
  },
  {
   "cell_type": "code",
   "execution_count": null,
   "metadata": {
    "collapsed": true
   },
   "outputs": [],
   "source": []
  }
 ],
 "metadata": {
  "kernelspec": {
   "display_name": "Python 3",
   "language": "python",
   "name": "python3"
  },
  "language_info": {
   "codemirror_mode": {
    "name": "ipython",
    "version": 3
   },
   "file_extension": ".py",
   "mimetype": "text/x-python",
   "name": "python",
   "nbconvert_exporter": "python",
   "pygments_lexer": "ipython3",
   "version": "3.6.0"
  }
 },
 "nbformat": 4,
 "nbformat_minor": 2
}
